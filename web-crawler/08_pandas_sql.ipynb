{
 "cells": [
  {
   "cell_type": "markdown",
   "metadata": {},
   "source": [
    "- Insert data to table\n",
    "```sql\n",
    "CREATE SCHEMA IF NOT EXISTS `TESTDB` DEFAULT CHARACTER SET utf8mb4 ;\n",
    "\n",
    "CREATE TABLE IF NOT EXISTS `TESTDB`.`Staff` (\n",
    "  `ID` VARCHAR(10) NOT NULL COMMENT 'Employee ID',\n",
    "  `Name` VARCHAR(45) NOT NULL COMMENT 'Employee name',\n",
    "  `DeptId` VARCHAR(10) NOT NULL COMMENT 'Department ID',\n",
    "  `Age` INT NULL,\n",
    "  `Gender` VARCHAR(3) NULL,\n",
    "  `Salary` INT NULL,\n",
    "  `recordDt` DATETIME NOT NULL COMMENT 'The date and time that this information be recorded',\n",
    "  PRIMARY KEY (`ID`))\n",
    "DEFAULT CHARACTER SET = utf8mb4;\n",
    "\n",
    "INSERT INTO `TESTDB`.`Staff` (`ID`, `Name`, `DeptId`, `Age`, `Gender`, `Salary`, `recordDt`) VALUES\n",
    "('S001', 'Alice Chen', 'D001', 28, 'F', 55000, '2025-05-18 09:00:00'),\n",
    "('S002', 'Bob Lin',   'D002', 35, 'M', 62000, '2025-05-18 09:05:00'),\n",
    "('S003', 'Cathy Wu',  'D001', 42, 'F', 71000, '2025-05-18 09:10:00'),\n",
    "('S004', 'David Hsu', 'D003', 30, 'M', 50000, '2025-05-18 09:15:00'),\n",
    "('S005', 'Eva Lee',   'D002', 25, 'F', 48000, '2025-05-18 09:20:00');\n",
    "```"
   ]
  },
  {
   "cell_type": "code",
   "execution_count": 10,
   "metadata": {},
   "outputs": [],
   "source": [
    "from urllib.parse import quote_plus\n",
    "\n",
    "import pandas as pd\n",
    "from sqlalchemy import create_engine\n",
    "\n",
    "username = quote_plus(\"root\")\n",
    "password = quote_plus(\"mysecret\")\n",
    "server = \"127.0.0.1:3306\"\n",
    "db_name = \"TESTDB\"\n",
    "\n",
    "conn = create_engine(\n",
    "    f\"mysql+pymysql://{username}:{password}@{server}/{db_name}?autocommit=true\",\n",
    ").connect()"
   ]
  },
  {
   "cell_type": "code",
   "execution_count": 11,
   "metadata": {},
   "outputs": [
    {
     "data": {
      "text/plain": [
       "'1qaz%40WSX'"
      ]
     },
     "execution_count": 11,
     "metadata": {},
     "output_type": "execute_result"
    }
   ],
   "source": [
    "quote_plus(\"1qaz@WSX\")"
   ]
  },
  {
   "cell_type": "code",
   "execution_count": 12,
   "metadata": {},
   "outputs": [
    {
     "data": {
      "text/html": [
       "<div>\n",
       "<style scoped>\n",
       "    .dataframe tbody tr th:only-of-type {\n",
       "        vertical-align: middle;\n",
       "    }\n",
       "\n",
       "    .dataframe tbody tr th {\n",
       "        vertical-align: top;\n",
       "    }\n",
       "\n",
       "    .dataframe thead th {\n",
       "        text-align: right;\n",
       "    }\n",
       "</style>\n",
       "<table border=\"1\" class=\"dataframe\">\n",
       "  <thead>\n",
       "    <tr style=\"text-align: right;\">\n",
       "      <th></th>\n",
       "      <th>ID</th>\n",
       "      <th>Name</th>\n",
       "      <th>DeptId</th>\n",
       "      <th>Age</th>\n",
       "      <th>Gender</th>\n",
       "      <th>Salary</th>\n",
       "      <th>recordDt</th>\n",
       "    </tr>\n",
       "  </thead>\n",
       "  <tbody>\n",
       "    <tr>\n",
       "      <th>0</th>\n",
       "      <td>S001</td>\n",
       "      <td>Alice Chen</td>\n",
       "      <td>D001</td>\n",
       "      <td>28</td>\n",
       "      <td>F</td>\n",
       "      <td>65000</td>\n",
       "      <td>2025-05-18 09:00:00</td>\n",
       "    </tr>\n",
       "    <tr>\n",
       "      <th>1</th>\n",
       "      <td>S002</td>\n",
       "      <td>Bob Lin</td>\n",
       "      <td>D002</td>\n",
       "      <td>35</td>\n",
       "      <td>M</td>\n",
       "      <td>72000</td>\n",
       "      <td>2025-05-18 09:05:00</td>\n",
       "    </tr>\n",
       "    <tr>\n",
       "      <th>2</th>\n",
       "      <td>S003</td>\n",
       "      <td>Cathy Wu</td>\n",
       "      <td>D001</td>\n",
       "      <td>42</td>\n",
       "      <td>F</td>\n",
       "      <td>81000</td>\n",
       "      <td>2025-05-18 09:10:00</td>\n",
       "    </tr>\n",
       "    <tr>\n",
       "      <th>3</th>\n",
       "      <td>S004</td>\n",
       "      <td>David Hsu</td>\n",
       "      <td>D003</td>\n",
       "      <td>30</td>\n",
       "      <td>M</td>\n",
       "      <td>60000</td>\n",
       "      <td>2025-05-18 09:15:00</td>\n",
       "    </tr>\n",
       "    <tr>\n",
       "      <th>4</th>\n",
       "      <td>S005</td>\n",
       "      <td>Eva Lee</td>\n",
       "      <td>D002</td>\n",
       "      <td>25</td>\n",
       "      <td>F</td>\n",
       "      <td>58000</td>\n",
       "      <td>2025-05-18 09:20:00</td>\n",
       "    </tr>\n",
       "  </tbody>\n",
       "</table>\n",
       "</div>"
      ],
      "text/plain": [
       "     ID        Name DeptId  Age Gender  Salary            recordDt\n",
       "0  S001  Alice Chen   D001   28      F   65000 2025-05-18 09:00:00\n",
       "1  S002     Bob Lin   D002   35      M   72000 2025-05-18 09:05:00\n",
       "2  S003    Cathy Wu   D001   42      F   81000 2025-05-18 09:10:00\n",
       "3  S004   David Hsu   D003   30      M   60000 2025-05-18 09:15:00\n",
       "4  S005     Eva Lee   D002   25      F   58000 2025-05-18 09:20:00"
      ]
     },
     "execution_count": 12,
     "metadata": {},
     "output_type": "execute_result"
    }
   ],
   "source": [
    "sql = \"\"\"\n",
    "select * from Staff\n",
    "\"\"\"\n",
    "\n",
    "df = pd.read_sql(sql, conn)\n",
    "\n",
    "df"
   ]
  },
  {
   "cell_type": "code",
   "execution_count": 13,
   "metadata": {},
   "outputs": [
    {
     "data": {
      "text/plain": [
       "ID                  object\n",
       "Name                object\n",
       "DeptId              object\n",
       "Age                  int64\n",
       "Gender              object\n",
       "Salary               int64\n",
       "recordDt    datetime64[ns]\n",
       "dtype: object"
      ]
     },
     "execution_count": 13,
     "metadata": {},
     "output_type": "execute_result"
    }
   ],
   "source": [
    "df.dtypes"
   ]
  },
  {
   "cell_type": "code",
   "execution_count": 14,
   "metadata": {},
   "outputs": [
    {
     "data": {
      "text/plain": [
       "0    75000\n",
       "1    82000\n",
       "2    91000\n",
       "3    70000\n",
       "4    68000\n",
       "Name: Salary, dtype: int64"
      ]
     },
     "execution_count": 14,
     "metadata": {},
     "output_type": "execute_result"
    }
   ],
   "source": [
    "df[\"Salary\"] + 10000"
   ]
  },
  {
   "cell_type": "code",
   "execution_count": 15,
   "metadata": {},
   "outputs": [],
   "source": [
    "df[\"Salary\"] = df[\"Salary\"] + 10000"
   ]
  },
  {
   "cell_type": "code",
   "execution_count": 16,
   "metadata": {},
   "outputs": [
    {
     "data": {
      "text/plain": [
       "5"
      ]
     },
     "execution_count": 16,
     "metadata": {},
     "output_type": "execute_result"
    }
   ],
   "source": [
    "df.to_sql(\n",
    "    name=\"Staff\",\n",
    "    con=conn,\n",
    "    if_exists=\"replace\",\n",
    "    index=False,\n",
    ")"
   ]
  },
  {
   "cell_type": "code",
   "execution_count": 9,
   "metadata": {},
   "outputs": [],
   "source": [
    "# conn.commit()"
   ]
  },
  {
   "cell_type": "code",
   "execution_count": 17,
   "metadata": {},
   "outputs": [],
   "source": [
    "conn.close()"
   ]
  },
  {
   "cell_type": "code",
   "execution_count": 18,
   "metadata": {},
   "outputs": [],
   "source": [
    "with create_engine(\n",
    "    f\"mysql+pymysql://{username}:{password}@{server}/{db_name}?autocommit=true\",\n",
    ").connect() as conn:\n",
    "    sql = \"\"\"\n",
    "    select * from Staff\n",
    "    \"\"\"\n",
    "\n",
    "    df = pd.read_sql(sql, conn)\n",
    "\n",
    "    df[\"Salary\"] = df[\"Salary\"] + 10000\n",
    "\n",
    "    df.to_sql(\n",
    "        name=\"Staff\",\n",
    "        con=conn,\n",
    "        if_exists=\"replace\",\n",
    "        index=False,\n",
    "    )"
   ]
  },
  {
   "cell_type": "code",
   "execution_count": null,
   "metadata": {},
   "outputs": [],
   "source": []
  }
 ],
 "metadata": {
  "kernelspec": {
   "display_name": "web-crawler-Lym1EtaI-py3.12",
   "language": "python",
   "name": "python3"
  },
  "language_info": {
   "codemirror_mode": {
    "name": "ipython",
    "version": 3
   },
   "file_extension": ".py",
   "mimetype": "text/x-python",
   "name": "python",
   "nbconvert_exporter": "python",
   "pygments_lexer": "ipython3",
   "version": "3.12.4"
  }
 },
 "nbformat": 4,
 "nbformat_minor": 2
}
