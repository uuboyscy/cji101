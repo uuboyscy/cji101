{
 "cells": [
  {
   "cell_type": "markdown",
   "metadata": {},
   "source": [
    "```sql\n",
    "CREATE SCHEMA IF NOT EXISTS `TESTDB` DEFAULT CHARACTER SET utf8mb4 ;\n",
    "\n",
    "CREATE TABLE IF NOT EXISTS `TESTDB`.`Staff` (\n",
    "  `ID` VARCHAR(10) NOT NULL COMMENT 'Employee ID',\n",
    "  `Name` VARCHAR(45) NOT NULL COMMENT 'Employee name',\n",
    "  `DeptId` VARCHAR(10) NOT NULL COMMENT 'Department ID',\n",
    "  `Age` INT NULL,\n",
    "  `Gender` VARCHAR(3) NULL,\n",
    "  `Salary` INT NULL,\n",
    "  `recordDt` DATETIME NOT NULL COMMENT 'The date and time that this information be recorded',\n",
    "  PRIMARY KEY (`ID`))\n",
    "DEFAULT CHARACTER SET = utf8mb4;\n",
    "\n",
    "INSERT INTO `TESTDB`.`Staff` (`ID`, `Name`, `DeptId`, `Age`, `Gender`, `Salary`, `recordDt`) VALUES\n",
    "('S001', 'Alice Chen', 'D001', 28, 'F', 55000, '2025-05-18 09:00:00'),\n",
    "('S002', 'Bob Lin',   'D002', 35, 'M', 62000, '2025-05-18 09:05:00'),\n",
    "('S003', 'Cathy Wu',  'D001', 42, 'F', 71000, '2025-05-18 09:10:00'),\n",
    "('S004', 'David Hsu', 'D003', 30, 'M', 50000, '2025-05-18 09:15:00'),\n",
    "('S005', 'Eva Lee',   'D002', 25, 'F', 48000, '2025-05-18 09:20:00');\n",
    "```"
   ]
  },
  {
   "cell_type": "code",
   "execution_count": null,
   "metadata": {
    "vscode": {
     "languageId": "plaintext"
    }
   },
   "outputs": [],
   "source": []
  },
  {
   "cell_type": "code",
   "execution_count": null,
   "metadata": {
    "vscode": {
     "languageId": "plaintext"
    }
   },
   "outputs": [],
   "source": []
  }
 ],
 "metadata": {
  "language_info": {
   "name": "python"
  }
 },
 "nbformat": 4,
 "nbformat_minor": 2
}
